{
 "cells": [
  {
   "cell_type": "code",
   "execution_count": 1,
   "metadata": {
    "id": "ktbF6ZGO0PDP",
    "scrolled": true
   },
   "outputs": [
    {
     "name": "stderr",
     "output_type": "stream",
     "text": [
      "C:\\Users\\Prerna\\AppData\\Local\\Programs\\Python\\Python39\\lib\\site-packages\\scipy\\__init__.py:146: UserWarning: A NumPy version >=1.16.5 and <1.23.0 is required for this version of SciPy (detected version 1.26.2\n",
      "  warnings.warn(f\"A NumPy version >={np_minversion} and <{np_maxversion}\"\n"
     ]
    }
   ],
   "source": [
    "import numpy as np\n",
    "import pandas as pd\n",
    "import matplotlib.pyplot as plt\n",
    "from sklearn.preprocessing import MinMaxScaler\n",
    "from tensorflow.keras.models import Sequential\n",
    "from tensorflow.keras.layers import Dense\n",
    "from tensorflow.keras.layers  import LSTM\n",
    "from tensorflow.keras.layers import Dropout"
   ]
  },
  {
   "cell_type": "code",
   "execution_count": 2,
   "metadata": {
    "colab": {
     "base_uri": "https://localhost:8080/",
     "height": 206
    },
    "id": "jrqtAg7pGSAv",
    "outputId": "b9072944-f45c-4b08-a750-428b095852e4"
   },
   "outputs": [
    {
     "data": {
      "text/html": [
       "<div>\n",
       "<style scoped>\n",
       "    .dataframe tbody tr th:only-of-type {\n",
       "        vertical-align: middle;\n",
       "    }\n",
       "\n",
       "    .dataframe tbody tr th {\n",
       "        vertical-align: top;\n",
       "    }\n",
       "\n",
       "    .dataframe thead th {\n",
       "        text-align: right;\n",
       "    }\n",
       "</style>\n",
       "<table border=\"1\" class=\"dataframe\">\n",
       "  <thead>\n",
       "    <tr style=\"text-align: right;\">\n",
       "      <th></th>\n",
       "      <th>Date</th>\n",
       "      <th>Open</th>\n",
       "      <th>High</th>\n",
       "      <th>Low</th>\n",
       "      <th>Close</th>\n",
       "      <th>Volume</th>\n",
       "    </tr>\n",
       "  </thead>\n",
       "  <tbody>\n",
       "    <tr>\n",
       "      <th>0</th>\n",
       "      <td>01/03/2012</td>\n",
       "      <td>325.25</td>\n",
       "      <td>332.83</td>\n",
       "      <td>324.97</td>\n",
       "      <td>663.59</td>\n",
       "      <td>7,380,500</td>\n",
       "    </tr>\n",
       "    <tr>\n",
       "      <th>1</th>\n",
       "      <td>01/04/2012</td>\n",
       "      <td>331.27</td>\n",
       "      <td>333.87</td>\n",
       "      <td>329.08</td>\n",
       "      <td>666.45</td>\n",
       "      <td>5,749,400</td>\n",
       "    </tr>\n",
       "    <tr>\n",
       "      <th>2</th>\n",
       "      <td>01/05/2012</td>\n",
       "      <td>329.83</td>\n",
       "      <td>330.75</td>\n",
       "      <td>326.89</td>\n",
       "      <td>657.21</td>\n",
       "      <td>6,590,300</td>\n",
       "    </tr>\n",
       "    <tr>\n",
       "      <th>3</th>\n",
       "      <td>01/06/2012</td>\n",
       "      <td>328.34</td>\n",
       "      <td>328.77</td>\n",
       "      <td>323.68</td>\n",
       "      <td>648.24</td>\n",
       "      <td>5,405,900</td>\n",
       "    </tr>\n",
       "    <tr>\n",
       "      <th>4</th>\n",
       "      <td>01/09/2012</td>\n",
       "      <td>322.04</td>\n",
       "      <td>322.29</td>\n",
       "      <td>309.46</td>\n",
       "      <td>620.76</td>\n",
       "      <td>11,688,800</td>\n",
       "    </tr>\n",
       "  </tbody>\n",
       "</table>\n",
       "</div>"
      ],
      "text/plain": [
       "         Date    Open    High     Low   Close      Volume\n",
       "0  01/03/2012  325.25  332.83  324.97  663.59   7,380,500\n",
       "1  01/04/2012  331.27  333.87  329.08  666.45   5,749,400\n",
       "2  01/05/2012  329.83  330.75  326.89  657.21   6,590,300\n",
       "3  01/06/2012  328.34  328.77  323.68  648.24   5,405,900\n",
       "4  01/09/2012  322.04  322.29  309.46  620.76  11,688,800"
      ]
     },
     "execution_count": 2,
     "metadata": {},
     "output_type": "execute_result"
    }
   ],
   "source": [
    "dataset_train = pd.read_csv(\"Ass-4_RNN_Google_Stock_Price_Train.csv\")\n",
    "dataset_train.head()"
   ]
  },
  {
   "cell_type": "code",
   "execution_count": 3,
   "metadata": {
    "id": "vvETxrCXGywS"
   },
   "outputs": [],
   "source": [
    "training_set =dataset_train.iloc[:,1:2].values"
   ]
  },
  {
   "cell_type": "code",
   "execution_count": 4,
   "metadata": {
    "id": "vZqaV-YRG5V4"
   },
   "outputs": [],
   "source": [
    "sc = MinMaxScaler(feature_range=(0,1))\n",
    "training_set_scaled = sc.fit_transform(training_set)"
   ]
  },
  {
   "cell_type": "code",
   "execution_count": 5,
   "metadata": {
    "id": "27jH4p460LmS"
   },
   "outputs": [],
   "source": [
    "## 60 timesteps and 1 output\n",
    "X_train = []\n",
    "y_train = []\n",
    "for i in range(60, len(training_set_scaled)):\n",
    "    X_train.append(training_set_scaled[i-60: i, 0])\n",
    "    y_train.append(training_set_scaled[i, 0])\n",
    "\n",
    "X_train, y_train = np.array(X_train), np.array(y_train)"
   ]
  },
  {
   "cell_type": "code",
   "execution_count": 6,
   "metadata": {
    "id": "yzqujpoKHyQB"
   },
   "outputs": [],
   "source": [
    "X_train = np.reshape(X_train, newshape =(X_train.shape[0], X_train.shape[1], 1))"
   ]
  },
  {
   "cell_type": "code",
   "execution_count": 7,
   "metadata": {
    "id": "tb2eGeqvI4gJ"
   },
   "outputs": [],
   "source": [
    "#50 units provide a good balance between model complexity (ability to learn patterns) and computational efficiency.(Rule of Thumb)\n",
    "regressor = Sequential()\n",
    "#add 1st lstm layer\n",
    "regressor.add(LSTM(units = 50, return_sequences = True, input_shape = (X_train.shape[1], 1)))\n",
    "regressor.add(Dropout(rate = 0.2))\n",
    "\n",
    "##add 2nd lstm layer: 50 neurons\n",
    "regressor.add(LSTM(units = 50, return_sequences = True))\n",
    "regressor.add(Dropout(rate = 0.2))\n",
    "\n",
    "##add 3rd lstm layer\n",
    "regressor.add(LSTM(units = 50, return_sequences = True))\n",
    "regressor.add(Dropout(rate = 0.2))\n",
    "\n",
    "##add 4th lstm layer\n",
    "regressor.add(LSTM(units = 50, return_sequences = False))\n",
    "regressor.add(Dropout(rate = 0.2))\n",
    "\n",
    "##add output layer\n",
    "regressor.add(Dense(units = 1))"
   ]
  },
  {
   "cell_type": "code",
   "execution_count": 8,
   "metadata": {
    "id": "LtmJV0FNJ_x4"
   },
   "outputs": [],
   "source": [
    "regressor.compile(optimizer = 'adam', loss = 'mean_squared_error')"
   ]
  },
  {
   "cell_type": "code",
   "execution_count": 9,
   "metadata": {
    "colab": {
     "base_uri": "https://localhost:8080/"
    },
    "id": "cUspH_JYKTsC",
    "outputId": "4be985ed-e752-4a93-c1e9-02593e5f8217"
   },
   "outputs": [
    {
     "name": "stdout",
     "output_type": "stream",
     "text": [
      "Epoch 1/100\n",
      "46/46 [==============================] - 13s 139ms/step - loss: 0.0262\n",
      "Epoch 2/100\n",
      "46/46 [==============================] - 6s 132ms/step - loss: 0.0037\n",
      "Epoch 3/100\n",
      "46/46 [==============================] - 6s 139ms/step - loss: 0.0038\n",
      "Epoch 4/100\n",
      "46/46 [==============================] - 6s 140ms/step - loss: 0.0036\n",
      "Epoch 5/100\n",
      "46/46 [==============================] - 6s 120ms/step - loss: 0.0036\n",
      "Epoch 6/100\n",
      "46/46 [==============================] - 5s 114ms/step - loss: 0.0028\n",
      "Epoch 7/100\n",
      "46/46 [==============================] - 6s 138ms/step - loss: 0.0028\n",
      "Epoch 8/100\n",
      "46/46 [==============================] - 4s 93ms/step - loss: 0.0028\n",
      "Epoch 9/100\n",
      "46/46 [==============================] - 6s 133ms/step - loss: 0.0027\n",
      "Epoch 10/100\n",
      "46/46 [==============================] - 5s 107ms/step - loss: 0.0028\n",
      "Epoch 11/100\n",
      "46/46 [==============================] - 6s 136ms/step - loss: 0.0026\n",
      "Epoch 12/100\n",
      "46/46 [==============================] - 6s 123ms/step - loss: 0.0028\n",
      "Epoch 13/100\n",
      "46/46 [==============================] - 6s 141ms/step - loss: 0.0025\n",
      "Epoch 14/100\n",
      "46/46 [==============================] - 6s 132ms/step - loss: 0.0023\n",
      "Epoch 15/100\n",
      "46/46 [==============================] - 7s 145ms/step - loss: 0.0025\n",
      "Epoch 16/100\n",
      "46/46 [==============================] - 6s 129ms/step - loss: 0.0026\n",
      "Epoch 17/100\n",
      "46/46 [==============================] - 6s 129ms/step - loss: 0.0025\n",
      "Epoch 18/100\n",
      "46/46 [==============================] - 6s 121ms/step - loss: 0.0023\n",
      "Epoch 19/100\n",
      "46/46 [==============================] - 5s 117ms/step - loss: 0.0025\n",
      "Epoch 20/100\n",
      "46/46 [==============================] - 6s 130ms/step - loss: 0.0021\n",
      "Epoch 21/100\n",
      "46/46 [==============================] - 4s 78ms/step - loss: 0.0024\n",
      "Epoch 22/100\n",
      "46/46 [==============================] - 6s 129ms/step - loss: 0.0022\n",
      "Epoch 23/100\n",
      "46/46 [==============================] - 4s 94ms/step - loss: 0.0023\n",
      "Epoch 24/100\n",
      "46/46 [==============================] - 6s 130ms/step - loss: 0.0019\n",
      "Epoch 25/100\n",
      "46/46 [==============================] - 6s 121ms/step - loss: 0.0022\n",
      "Epoch 26/100\n",
      "46/46 [==============================] - 6s 138ms/step - loss: 0.0020\n",
      "Epoch 27/100\n",
      "46/46 [==============================] - 6s 122ms/step - loss: 0.0019\n",
      "Epoch 28/100\n",
      "46/46 [==============================] - 6s 126ms/step - loss: 0.0020\n",
      "Epoch 29/100\n",
      "46/46 [==============================] - 7s 142ms/step - loss: 0.0017\n",
      "Epoch 30/100\n",
      "46/46 [==============================] - 6s 123ms/step - loss: 0.0019\n",
      "Epoch 31/100\n",
      "46/46 [==============================] - 6s 130ms/step - loss: 0.0019\n",
      "Epoch 32/100\n",
      "46/46 [==============================] - 6s 128ms/step - loss: 0.0018\n",
      "Epoch 33/100\n",
      "46/46 [==============================] - 5s 116ms/step - loss: 0.0020\n",
      "Epoch 34/100\n",
      "46/46 [==============================] - 6s 133ms/step - loss: 0.0017\n",
      "Epoch 35/100\n",
      "46/46 [==============================] - 6s 125ms/step - loss: 0.0018\n",
      "Epoch 36/100\n",
      "46/46 [==============================] - 6s 138ms/step - loss: 0.0017\n",
      "Epoch 37/100\n",
      "46/46 [==============================] - 6s 138ms/step - loss: 0.0017\n",
      "Epoch 38/100\n",
      "46/46 [==============================] - 6s 141ms/step - loss: 0.0018\n",
      "Epoch 39/100\n",
      "46/46 [==============================] - 6s 135ms/step - loss: 0.0015\n",
      "Epoch 40/100\n",
      "46/46 [==============================] - 6s 121ms/step - loss: 0.0016\n",
      "Epoch 41/100\n",
      "46/46 [==============================] - 6s 136ms/step - loss: 0.0016\n",
      "Epoch 42/100\n",
      "46/46 [==============================] - 7s 148ms/step - loss: 0.0015\n",
      "Epoch 43/100\n",
      "46/46 [==============================] - 7s 143ms/step - loss: 0.0015\n",
      "Epoch 44/100\n",
      "46/46 [==============================] - 7s 144ms/step - loss: 0.0014\n",
      "Epoch 45/100\n",
      "46/46 [==============================] - 6s 136ms/step - loss: 0.0014\n",
      "Epoch 46/100\n",
      "46/46 [==============================] - 7s 147ms/step - loss: 0.0016\n",
      "Epoch 47/100\n",
      "46/46 [==============================] - 6s 138ms/step - loss: 0.0015\n",
      "Epoch 48/100\n",
      "46/46 [==============================] - 6s 141ms/step - loss: 0.0014\n",
      "Epoch 49/100\n",
      "46/46 [==============================] - 6s 139ms/step - loss: 0.0016\n",
      "Epoch 50/100\n",
      "46/46 [==============================] - 6s 140ms/step - loss: 0.0014\n",
      "Epoch 51/100\n",
      "46/46 [==============================] - 7s 141ms/step - loss: 0.0013\n",
      "Epoch 52/100\n",
      "46/46 [==============================] - 6s 137ms/step - loss: 0.0013\n",
      "Epoch 53/100\n",
      "46/46 [==============================] - 6s 140ms/step - loss: 0.0013\n",
      "Epoch 54/100\n",
      "46/46 [==============================] - 6s 133ms/step - loss: 0.0015\n",
      "Epoch 55/100\n",
      "46/46 [==============================] - 6s 137ms/step - loss: 0.0013\n",
      "Epoch 56/100\n",
      "46/46 [==============================] - 6s 139ms/step - loss: 0.0013\n",
      "Epoch 57/100\n",
      "46/46 [==============================] - 6s 136ms/step - loss: 0.0012\n",
      "Epoch 58/100\n",
      "46/46 [==============================] - 6s 133ms/step - loss: 0.0013\n",
      "Epoch 59/100\n",
      "46/46 [==============================] - 7s 144ms/step - loss: 0.0013\n",
      "Epoch 60/100\n",
      "46/46 [==============================] - 6s 139ms/step - loss: 0.0013\n",
      "Epoch 61/100\n",
      "46/46 [==============================] - 6s 133ms/step - loss: 0.0013\n",
      "Epoch 62/100\n",
      "46/46 [==============================] - 6s 132ms/step - loss: 0.0012\n",
      "Epoch 63/100\n",
      "46/46 [==============================] - 6s 129ms/step - loss: 0.0012\n",
      "Epoch 64/100\n",
      "46/46 [==============================] - 6s 131ms/step - loss: 0.0013\n",
      "Epoch 65/100\n",
      "46/46 [==============================] - 6s 141ms/step - loss: 0.0012\n",
      "Epoch 66/100\n",
      "46/46 [==============================] - 6s 127ms/step - loss: 0.0012\n",
      "Epoch 67/100\n",
      "46/46 [==============================] - 7s 142ms/step - loss: 0.0012\n",
      "Epoch 68/100\n",
      "46/46 [==============================] - 6s 140ms/step - loss: 0.0011\n",
      "Epoch 69/100\n",
      "46/46 [==============================] - 6s 138ms/step - loss: 0.0012\n",
      "Epoch 70/100\n",
      "46/46 [==============================] - 6s 130ms/step - loss: 0.0011\n",
      "Epoch 71/100\n",
      "46/46 [==============================] - 7s 144ms/step - loss: 9.8417e-04\n",
      "Epoch 72/100\n",
      "46/46 [==============================] - 7s 146ms/step - loss: 0.0013\n",
      "Epoch 73/100\n",
      "46/46 [==============================] - 6s 132ms/step - loss: 0.0012\n",
      "Epoch 74/100\n",
      "46/46 [==============================] - 6s 121ms/step - loss: 0.0012\n",
      "Epoch 75/100\n",
      "46/46 [==============================] - 6s 132ms/step - loss: 0.0012\n",
      "Epoch 76/100\n",
      "46/46 [==============================] - 7s 145ms/step - loss: 0.0012\n",
      "Epoch 77/100\n",
      "46/46 [==============================] - 6s 135ms/step - loss: 0.0011\n",
      "Epoch 78/100\n",
      "46/46 [==============================] - 6s 127ms/step - loss: 9.7124e-04\n",
      "Epoch 79/100\n",
      "46/46 [==============================] - 5s 114ms/step - loss: 0.0012\n",
      "Epoch 80/100\n",
      "46/46 [==============================] - 6s 135ms/step - loss: 0.0012\n",
      "Epoch 81/100\n",
      "46/46 [==============================] - 6s 135ms/step - loss: 0.0011\n",
      "Epoch 82/100\n",
      "46/46 [==============================] - 7s 142ms/step - loss: 0.0011\n",
      "Epoch 83/100\n",
      "46/46 [==============================] - 7s 142ms/step - loss: 0.0012\n",
      "Epoch 84/100\n",
      "46/46 [==============================] - 6s 137ms/step - loss: 0.0012\n",
      "Epoch 85/100\n",
      "46/46 [==============================] - 6s 137ms/step - loss: 9.7024e-04\n",
      "Epoch 86/100\n",
      "46/46 [==============================] - 6s 130ms/step - loss: 0.0011\n",
      "Epoch 87/100\n",
      "46/46 [==============================] - 5s 118ms/step - loss: 9.8352e-04\n",
      "Epoch 88/100\n",
      "46/46 [==============================] - 6s 125ms/step - loss: 0.0010\n",
      "Epoch 89/100\n",
      "46/46 [==============================] - 7s 143ms/step - loss: 0.0010\n",
      "Epoch 90/100\n",
      "46/46 [==============================] - 6s 138ms/step - loss: 9.8713e-04\n",
      "Epoch 91/100\n",
      "46/46 [==============================] - 6s 140ms/step - loss: 9.4131e-04\n",
      "Epoch 92/100\n",
      "46/46 [==============================] - 6s 138ms/step - loss: 0.0011\n",
      "Epoch 93/100\n",
      "46/46 [==============================] - 7s 146ms/step - loss: 9.4481e-04\n",
      "Epoch 94/100\n",
      "46/46 [==============================] - 7s 145ms/step - loss: 9.5138e-04\n",
      "Epoch 95/100\n",
      "46/46 [==============================] - 7s 145ms/step - loss: 9.6823e-04\n",
      "Epoch 96/100\n",
      "46/46 [==============================] - 6s 120ms/step - loss: 9.3737e-04\n",
      "Epoch 97/100\n",
      "46/46 [==============================] - 6s 125ms/step - loss: 0.0011\n",
      "Epoch 98/100\n",
      "46/46 [==============================] - 5s 114ms/step - loss: 9.3325e-04\n",
      "Epoch 99/100\n",
      "46/46 [==============================] - 6s 135ms/step - loss: 8.6296e-04\n",
      "Epoch 100/100\n",
      "46/46 [==============================] - 7s 145ms/step - loss: 0.0010\n"
     ]
    },
    {
     "data": {
      "text/plain": [
       "<keras.src.callbacks.History at 0x2363f5495e0>"
      ]
     },
     "execution_count": 9,
     "metadata": {},
     "output_type": "execute_result"
    }
   ],
   "source": [
    "regressor.fit(x = X_train, y = y_train, batch_size = 32, epochs = 100)"
   ]
  },
  {
   "cell_type": "code",
   "execution_count": 10,
   "metadata": {
    "colab": {
     "base_uri": "https://localhost:8080/",
     "height": 206
    },
    "id": "r1HkoscXOoR6",
    "outputId": "c8873b3e-e502-41b8-d09c-c30292e4c3e2"
   },
   "outputs": [
    {
     "data": {
      "text/html": [
       "<div>\n",
       "<style scoped>\n",
       "    .dataframe tbody tr th:only-of-type {\n",
       "        vertical-align: middle;\n",
       "    }\n",
       "\n",
       "    .dataframe tbody tr th {\n",
       "        vertical-align: top;\n",
       "    }\n",
       "\n",
       "    .dataframe thead th {\n",
       "        text-align: right;\n",
       "    }\n",
       "</style>\n",
       "<table border=\"1\" class=\"dataframe\">\n",
       "  <thead>\n",
       "    <tr style=\"text-align: right;\">\n",
       "      <th></th>\n",
       "      <th>Date</th>\n",
       "      <th>Open</th>\n",
       "      <th>High</th>\n",
       "      <th>Low</th>\n",
       "      <th>Close</th>\n",
       "      <th>Volume</th>\n",
       "    </tr>\n",
       "  </thead>\n",
       "  <tbody>\n",
       "    <tr>\n",
       "      <th>0</th>\n",
       "      <td>02/01/2018</td>\n",
       "      <td>1048.339966</td>\n",
       "      <td>1066.939941</td>\n",
       "      <td>1045.229980</td>\n",
       "      <td>1065.000000</td>\n",
       "      <td>1237600</td>\n",
       "    </tr>\n",
       "    <tr>\n",
       "      <th>1</th>\n",
       "      <td>03/01/2018</td>\n",
       "      <td>1064.310059</td>\n",
       "      <td>1086.290039</td>\n",
       "      <td>1063.209961</td>\n",
       "      <td>1082.479980</td>\n",
       "      <td>1430200</td>\n",
       "    </tr>\n",
       "    <tr>\n",
       "      <th>2</th>\n",
       "      <td>04/01/2018</td>\n",
       "      <td>1088.000000</td>\n",
       "      <td>1093.569946</td>\n",
       "      <td>1084.001953</td>\n",
       "      <td>1086.400024</td>\n",
       "      <td>1004600</td>\n",
       "    </tr>\n",
       "    <tr>\n",
       "      <th>3</th>\n",
       "      <td>05/01/2018</td>\n",
       "      <td>1094.000000</td>\n",
       "      <td>1104.250000</td>\n",
       "      <td>1092.000000</td>\n",
       "      <td>1102.229980</td>\n",
       "      <td>1279100</td>\n",
       "    </tr>\n",
       "    <tr>\n",
       "      <th>4</th>\n",
       "      <td>08/01/2018</td>\n",
       "      <td>1102.229980</td>\n",
       "      <td>1111.270020</td>\n",
       "      <td>1101.619995</td>\n",
       "      <td>1106.939941</td>\n",
       "      <td>1047600</td>\n",
       "    </tr>\n",
       "  </tbody>\n",
       "</table>\n",
       "</div>"
      ],
      "text/plain": [
       "         Date         Open         High          Low        Close   Volume\n",
       "0  02/01/2018  1048.339966  1066.939941  1045.229980  1065.000000  1237600\n",
       "1  03/01/2018  1064.310059  1086.290039  1063.209961  1082.479980  1430200\n",
       "2  04/01/2018  1088.000000  1093.569946  1084.001953  1086.400024  1004600\n",
       "3  05/01/2018  1094.000000  1104.250000  1092.000000  1102.229980  1279100\n",
       "4  08/01/2018  1102.229980  1111.270020  1101.619995  1106.939941  1047600"
      ]
     },
     "execution_count": 10,
     "metadata": {},
     "output_type": "execute_result"
    }
   ],
   "source": [
    "dataset_test = pd.read_csv(\"Ass-4_RNN_Google_Stock_Price_Test.csv\")\n",
    "dataset_test.head(5)"
   ]
  },
  {
   "cell_type": "code",
   "execution_count": 11,
   "metadata": {
    "colab": {
     "base_uri": "https://localhost:8080/"
    },
    "id": "JRMT5pv1O4Hn",
    "outputId": "dad38a9c-20b3-446c-9b23-5b92cfe2e9ae"
   },
   "outputs": [
    {
     "data": {
      "text/plain": [
       "(125, 1)"
      ]
     },
     "execution_count": 11,
     "metadata": {},
     "output_type": "execute_result"
    }
   ],
   "source": [
    "real_stock_price = dataset_test.iloc[:,1:2].values\n",
    "real_stock_price.shape"
   ]
  },
  {
   "cell_type": "code",
   "execution_count": 12,
   "metadata": {
    "id": "y2ths-E4PKm6"
   },
   "outputs": [],
   "source": [
    "dataset_total = pd.concat((dataset_train['Open'],dataset_test['Open']),axis=0)\n",
    "\n",
    "inputs = dataset_total[len(dataset_total)-len(dataset_test)-60:].values"
   ]
  },
  {
   "cell_type": "code",
   "execution_count": 18,
   "metadata": {
    "id": "fZ8P0nZIP0Zl"
   },
   "outputs": [
    {
     "name": "stdout",
     "output_type": "stream",
     "text": [
      "[[-0.34955079]\n",
      " [-0.3495331 ]\n",
      " [-0.34951211]\n",
      " [-0.34951211]\n",
      " [-0.34952202]\n",
      " [-0.34950036]\n",
      " [-0.34949318]\n",
      " [-0.34949302]\n",
      " [-0.34949588]\n",
      " [-0.34949354]\n",
      " [-0.34950265]\n",
      " [-0.34949722]\n",
      " [-0.34949709]\n",
      " [-0.34952789]\n",
      " [-0.34953046]\n",
      " [-0.34951211]\n",
      " [-0.34946605]\n",
      " [-0.34945846]\n",
      " [-0.34945654]\n",
      " [-0.3494534 ]\n",
      " [-0.34944622]\n",
      " [-0.34944567]\n",
      " [-0.34943481]\n",
      " [-0.34943752]\n",
      " [-0.3494324 ]\n",
      " [-0.34942692]\n",
      " [-0.3494388 ]\n",
      " [-0.3494436 ]\n",
      " [-0.34944491]\n",
      " [-0.34945024]\n",
      " [-0.34944502]\n",
      " [-0.34942689]\n",
      " [-0.34944859]\n",
      " [-0.34944377]\n",
      " [-0.34942533]\n",
      " [-0.34942395]\n",
      " [-0.34941744]\n",
      " [-0.34939363]\n",
      " [-0.34941321]\n",
      " [-0.34944526]\n",
      " [-0.34945562]\n",
      " [-0.34946058]\n",
      " [-0.34948696]\n",
      " [-0.34947819]\n",
      " [-0.34944832]\n",
      " [-0.3494214 ]\n",
      " [-0.34942454]\n",
      " [-0.34941802]\n",
      " [-0.34940778]\n",
      " [-0.34940955]\n",
      " [-0.34939438]\n",
      " [-0.34937629]\n",
      " [-0.34936189]\n",
      " [-0.34936729]\n",
      " [-0.34937807]\n",
      " [-0.34938413]\n",
      " [-0.34938892]\n",
      " [-0.34939   ]\n",
      " [-0.34939913]\n",
      " [-0.34940683]\n",
      " [-0.34940428]\n",
      " [-0.34937908]\n",
      " [-0.3493417 ]\n",
      " [-0.34933223]\n",
      " [-0.34931924]\n",
      " [-0.34930793]\n",
      " [-0.34932734]\n",
      " [-0.34931282]\n",
      " [-0.34931896]\n",
      " [-0.34927146]\n",
      " [-0.34928139]\n",
      " [-0.3492732 ]\n",
      " [-0.34927254]\n",
      " [-0.34926361]\n",
      " [-0.34922832]\n",
      " [-0.34920074]\n",
      " [-0.34920832]\n",
      " [-0.34920429]\n",
      " [-0.34920208]\n",
      " [-0.34921573]\n",
      " [-0.34921141]\n",
      " [-0.34922397]\n",
      " [-0.34928805]\n",
      " [-0.34933759]\n",
      " [-0.34943767]\n",
      " [-0.34935189]\n",
      " [-0.34939312]\n",
      " [-0.34945334]\n",
      " [-0.34940481]\n",
      " [-0.34940955]\n",
      " [-0.34940332]\n",
      " [-0.34935579]\n",
      " [-0.34934105]\n",
      " [-0.34933764]\n",
      " [-0.34931255]\n",
      " [-0.34929722]\n",
      " [-0.34930282]\n",
      " [-0.3492789 ]\n",
      " [-0.34925769]\n",
      " [-0.34928642]\n",
      " [-0.34931034]\n",
      " [-0.3493968 ]\n",
      " [-0.34936199]\n",
      " [-0.34932399]\n",
      " [-0.34933982]\n",
      " [-0.34929859]\n",
      " [-0.34926596]\n",
      " [-0.34922201]\n",
      " [-0.34921231]\n",
      " [-0.34925142]\n",
      " [-0.34924393]\n",
      " [-0.34923733]\n",
      " [-0.34929119]\n",
      " [-0.34932434]\n",
      " [-0.34933422]\n",
      " [-0.34935135]\n",
      " [-0.34940634]\n",
      " [-0.34940797]\n",
      " [-0.34938115]\n",
      " [-0.34948371]\n",
      " [-0.3494622 ]\n",
      " [-0.34944455]\n",
      " [-0.34945861]\n",
      " [-0.34949095]\n",
      " [-0.34941534]\n",
      " [-0.349449  ]\n",
      " [-0.34945405]\n",
      " [-0.34943883]\n",
      " [-0.34943639]\n",
      " [-0.34944104]\n",
      " [-0.34941605]\n",
      " [-0.34942217]\n",
      " [-0.3493995 ]\n",
      " [-0.34935838]\n",
      " [-0.34937105]\n",
      " [-0.34935116]\n",
      " [-0.3493577 ]\n",
      " [-0.3493985 ]\n",
      " [-0.34944029]\n",
      " [-0.34943399]\n",
      " [-0.34940797]\n",
      " [-0.3494332 ]\n",
      " [-0.349459  ]\n",
      " [-0.34943621]\n",
      " [-0.34945057]\n",
      " [-0.34945389]\n",
      " [-0.34940287]\n",
      " [-0.34938818]\n",
      " [-0.34938888]\n",
      " [-0.34934481]\n",
      " [-0.34933286]\n",
      " [-0.34932276]\n",
      " [-0.34933854]\n",
      " [-0.34935857]\n",
      " [-0.34935449]\n",
      " [-0.34938294]\n",
      " [-0.34936369]\n",
      " [-0.3493487 ]\n",
      " [-0.34937778]\n",
      " [-0.3493559 ]\n",
      " [-0.34935587]\n",
      " [-0.34937816]\n",
      " [-0.3493811 ]\n",
      " [-0.34937395]\n",
      " [-0.34932379]\n",
      " [-0.34928753]\n",
      " [-0.34925808]\n",
      " [-0.34925622]\n",
      " [-0.34927334]\n",
      " [-0.34929408]\n",
      " [-0.34929341]\n",
      " [-0.34927374]\n",
      " [-0.34925788]\n",
      " [-0.34925357]\n",
      " [-0.34924566]\n",
      " [-0.34925389]\n",
      " [-0.34923045]\n",
      " [-0.34920393]\n",
      " [-0.34920465]\n",
      " [-0.34922944]\n",
      " [-0.34925396]\n",
      " [-0.34927858]\n",
      " [-0.34928909]\n",
      " [-0.34931946]\n",
      " [-0.3492912 ]]\n"
     ]
    }
   ],
   "source": [
    "inputs = inputs.reshape(-1,1)\n",
    "inputs = sc.transform(inputs)"
   ]
  },
  {
   "cell_type": "code",
   "execution_count": 14,
   "metadata": {
    "colab": {
     "base_uri": "https://localhost:8080/"
    },
    "id": "iLWrkjRKQAYK",
    "outputId": "49c7f910-8863-43eb-b0fb-037dff3c9857"
   },
   "outputs": [
    {
     "data": {
      "text/plain": [
       "(125, 60, 1)"
      ]
     },
     "execution_count": 14,
     "metadata": {},
     "output_type": "execute_result"
    }
   ],
   "source": [
    "x_test=[]\n",
    "for i in range(60,len(inputs)):\n",
    "  x_test.append(inputs[i-60:i,0])\n",
    "x_test = np.array(x_test)\n",
    "x_test = np.reshape(x_test,newshape=(x_test.shape[0],x_test.shape[1],1))\n",
    "x_test.shape"
   ]
  },
  {
   "cell_type": "code",
   "execution_count": 15,
   "metadata": {
    "colab": {
     "base_uri": "https://localhost:8080/"
    },
    "id": "LIC9FYZOQrca",
    "outputId": "7f4025a9-9d44-49f4-93b7-585ae76b4e9d"
   },
   "outputs": [
    {
     "name": "stdout",
     "output_type": "stream",
     "text": [
      "4/4 [==============================] - 2s 26ms/step\n"
     ]
    }
   ],
   "source": [
    "predicted_stock_price = regressor.predict(x_test)\n"
   ]
  },
  {
   "cell_type": "code",
   "execution_count": 16,
   "metadata": {
    "id": "gGzbRvR-Q4xm"
   },
   "outputs": [],
   "source": [
    "predicted_stock_price = sc.inverse_transform(predicted_stock_price)"
   ]
  },
  {
   "cell_type": "code",
   "execution_count": 17,
   "metadata": {
    "colab": {
     "base_uri": "https://localhost:8080/",
     "height": 472
    },
    "id": "h6b3b7UDRGar",
    "outputId": "2cad57cc-34e8-4606-d838-d5ad53f36822"
   },
   "outputs": [
    {
     "data": {
      "image/png": "[encoded data removed]",
      "text/plain": [
       "<Figure size 640x480 with 1 Axes>"
      ]
     },
     "metadata": {},
     "output_type": "display_data"
    }
   ],
   "source": [
    "plt.plot(real_stock_price,label='Real Stock price',color='red')\n",
    "plt.plot(predicted_stock_price,label='Predicted Price',color='blue')\n",
    "plt.title('Google price prediction')\n",
    "plt.xlabel('Time')\n",
    "plt.ylabel('Price')\n",
    "plt.legend()\n",
    "plt.show()"
   ]
  }
 ],
 "metadata": {
  "colab": {
   "provenance": []
  },
  "kernelspec": {
   "display_name": "Python 3 (ipykernel)",
   "language": "python",
   "name": "python3"
  },
  "language_info": {
   "codemirror_mode": {
    "name": "ipython",
    "version": 3
   },
   "file_extension": ".py",
   "mimetype": "text/x-python",
   "name": "python",
   "nbconvert_exporter": "python",
   "pygments_lexer": "ipython3",
   "version": "3.9.7"
  }
 },
 "nbformat": 4,
 "nbformat_minor": 1
}
