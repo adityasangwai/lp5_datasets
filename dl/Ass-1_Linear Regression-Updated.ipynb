{
 "cells": [
  {
   "cell_type": "code",
   "execution_count": 1,
   "metadata": {
    "id": "FWSOlBLvqM7v"
   },
   "outputs": [],
   "source": [
    "import pandas as pd\n",
    "df = pd.read_csv(\"Ass-1_Linear-Regression1_boston_housing.csv\")"
   ]
  },
  {
   "cell_type": "code",
   "execution_count": 2,
   "metadata": {
    "id": "dFHp47UIqg7M"
   },
   "outputs": [
    {
     "name": "stderr",
     "output_type": "stream",
     "text": [
      "C:\\Users\\Prerna\\AppData\\Local\\Programs\\Python\\Python39\\lib\\site-packages\\scipy\\__init__.py:146: UserWarning: A NumPy version >=1.16.5 and <1.23.0 is required for this version of SciPy (detected version 1.26.2\n",
      "  warnings.warn(f\"A NumPy version >={np_minversion} and <{np_maxversion}\"\n"
     ]
    }
   ],
   "source": [
    "import numpy as np\n",
    "import seaborn as sns\n",
    "import matplotlib.pyplot as plt"
   ]
  },
  {
   "cell_type": "code",
   "execution_count": 3,
   "metadata": {
    "colab": {
     "base_uri": "https://localhost:8080/",
     "height": 363
    },
    "id": "VXqLpGixqv_6",
    "outputId": "8664cb53-691b-456a-c8ed-5e3a231ff6c1"
   },
   "outputs": [
    {
     "data": {
      "text/html": [
       "<div>\n",
       "<style scoped>\n",
       "    .dataframe tbody tr th:only-of-type {\n",
       "        vertical-align: middle;\n",
       "    }\n",
       "\n",
       "    .dataframe tbody tr th {\n",
       "        vertical-align: top;\n",
       "    }\n",
       "\n",
       "    .dataframe thead th {\n",
       "        text-align: right;\n",
       "    }\n",
       "</style>\n",
       "<table border=\"1\" class=\"dataframe\">\n",
       "  <thead>\n",
       "    <tr style=\"text-align: right;\">\n",
       "      <th></th>\n",
       "      <th>crim</th>\n",
       "      <th>zn</th>\n",
       "      <th>indus</th>\n",
       "      <th>chas</th>\n",
       "      <th>nox</th>\n",
       "      <th>rm</th>\n",
       "      <th>age</th>\n",
       "      <th>dis</th>\n",
       "      <th>rad</th>\n",
       "      <th>tax</th>\n",
       "      <th>ptratio</th>\n",
       "      <th>b</th>\n",
       "      <th>lstat</th>\n",
       "      <th>MEDV</th>\n",
       "    </tr>\n",
       "  </thead>\n",
       "  <tbody>\n",
       "    <tr>\n",
       "      <th>0</th>\n",
       "      <td>0.00632</td>\n",
       "      <td>18.0</td>\n",
       "      <td>2.31</td>\n",
       "      <td>0</td>\n",
       "      <td>0.538</td>\n",
       "      <td>6.575</td>\n",
       "      <td>65.2</td>\n",
       "      <td>4.0900</td>\n",
       "      <td>1</td>\n",
       "      <td>296</td>\n",
       "      <td>15.3</td>\n",
       "      <td>396.90</td>\n",
       "      <td>4.98</td>\n",
       "      <td>24.0</td>\n",
       "    </tr>\n",
       "    <tr>\n",
       "      <th>1</th>\n",
       "      <td>0.02731</td>\n",
       "      <td>0.0</td>\n",
       "      <td>7.07</td>\n",
       "      <td>0</td>\n",
       "      <td>0.469</td>\n",
       "      <td>6.421</td>\n",
       "      <td>78.9</td>\n",
       "      <td>4.9671</td>\n",
       "      <td>2</td>\n",
       "      <td>242</td>\n",
       "      <td>17.8</td>\n",
       "      <td>396.90</td>\n",
       "      <td>9.14</td>\n",
       "      <td>21.6</td>\n",
       "    </tr>\n",
       "    <tr>\n",
       "      <th>2</th>\n",
       "      <td>0.02729</td>\n",
       "      <td>0.0</td>\n",
       "      <td>7.07</td>\n",
       "      <td>0</td>\n",
       "      <td>0.469</td>\n",
       "      <td>7.185</td>\n",
       "      <td>61.1</td>\n",
       "      <td>4.9671</td>\n",
       "      <td>2</td>\n",
       "      <td>242</td>\n",
       "      <td>17.8</td>\n",
       "      <td>392.83</td>\n",
       "      <td>4.03</td>\n",
       "      <td>34.7</td>\n",
       "    </tr>\n",
       "    <tr>\n",
       "      <th>3</th>\n",
       "      <td>0.03237</td>\n",
       "      <td>0.0</td>\n",
       "      <td>2.18</td>\n",
       "      <td>0</td>\n",
       "      <td>0.458</td>\n",
       "      <td>6.998</td>\n",
       "      <td>45.8</td>\n",
       "      <td>6.0622</td>\n",
       "      <td>3</td>\n",
       "      <td>222</td>\n",
       "      <td>18.7</td>\n",
       "      <td>394.63</td>\n",
       "      <td>2.94</td>\n",
       "      <td>33.4</td>\n",
       "    </tr>\n",
       "    <tr>\n",
       "      <th>4</th>\n",
       "      <td>0.06905</td>\n",
       "      <td>0.0</td>\n",
       "      <td>2.18</td>\n",
       "      <td>0</td>\n",
       "      <td>0.458</td>\n",
       "      <td>7.147</td>\n",
       "      <td>54.2</td>\n",
       "      <td>6.0622</td>\n",
       "      <td>3</td>\n",
       "      <td>222</td>\n",
       "      <td>18.7</td>\n",
       "      <td>396.90</td>\n",
       "      <td>5.33</td>\n",
       "      <td>36.2</td>\n",
       "    </tr>\n",
       "    <tr>\n",
       "      <th>5</th>\n",
       "      <td>0.02985</td>\n",
       "      <td>0.0</td>\n",
       "      <td>2.18</td>\n",
       "      <td>0</td>\n",
       "      <td>0.458</td>\n",
       "      <td>6.430</td>\n",
       "      <td>58.7</td>\n",
       "      <td>6.0622</td>\n",
       "      <td>3</td>\n",
       "      <td>222</td>\n",
       "      <td>18.7</td>\n",
       "      <td>394.12</td>\n",
       "      <td>5.21</td>\n",
       "      <td>28.7</td>\n",
       "    </tr>\n",
       "    <tr>\n",
       "      <th>6</th>\n",
       "      <td>0.08829</td>\n",
       "      <td>12.5</td>\n",
       "      <td>7.87</td>\n",
       "      <td>0</td>\n",
       "      <td>0.524</td>\n",
       "      <td>6.012</td>\n",
       "      <td>66.6</td>\n",
       "      <td>5.5605</td>\n",
       "      <td>5</td>\n",
       "      <td>311</td>\n",
       "      <td>15.2</td>\n",
       "      <td>395.60</td>\n",
       "      <td>12.43</td>\n",
       "      <td>22.9</td>\n",
       "    </tr>\n",
       "    <tr>\n",
       "      <th>7</th>\n",
       "      <td>0.14455</td>\n",
       "      <td>12.5</td>\n",
       "      <td>7.87</td>\n",
       "      <td>0</td>\n",
       "      <td>0.524</td>\n",
       "      <td>6.172</td>\n",
       "      <td>96.1</td>\n",
       "      <td>5.9505</td>\n",
       "      <td>5</td>\n",
       "      <td>311</td>\n",
       "      <td>15.2</td>\n",
       "      <td>396.90</td>\n",
       "      <td>19.15</td>\n",
       "      <td>27.1</td>\n",
       "    </tr>\n",
       "    <tr>\n",
       "      <th>8</th>\n",
       "      <td>0.21124</td>\n",
       "      <td>12.5</td>\n",
       "      <td>7.87</td>\n",
       "      <td>0</td>\n",
       "      <td>0.524</td>\n",
       "      <td>5.631</td>\n",
       "      <td>100.0</td>\n",
       "      <td>6.0821</td>\n",
       "      <td>5</td>\n",
       "      <td>311</td>\n",
       "      <td>15.2</td>\n",
       "      <td>386.63</td>\n",
       "      <td>29.93</td>\n",
       "      <td>16.5</td>\n",
       "    </tr>\n",
       "    <tr>\n",
       "      <th>9</th>\n",
       "      <td>0.17004</td>\n",
       "      <td>12.5</td>\n",
       "      <td>7.87</td>\n",
       "      <td>0</td>\n",
       "      <td>0.524</td>\n",
       "      <td>6.004</td>\n",
       "      <td>85.9</td>\n",
       "      <td>6.5921</td>\n",
       "      <td>5</td>\n",
       "      <td>311</td>\n",
       "      <td>15.2</td>\n",
       "      <td>386.71</td>\n",
       "      <td>17.10</td>\n",
       "      <td>18.9</td>\n",
       "    </tr>\n",
       "  </tbody>\n",
       "</table>\n",
       "</div>"
      ],
      "text/plain": [
       "      crim    zn  indus  chas    nox     rm    age     dis  rad  tax  ptratio  \\\n",
       "0  0.00632  18.0   2.31     0  0.538  6.575   65.2  4.0900    1  296     15.3   \n",
       "1  0.02731   0.0   7.07     0  0.469  6.421   78.9  4.9671    2  242     17.8   \n",
       "2  0.02729   0.0   7.07     0  0.469  7.185   61.1  4.9671    2  242     17.8   \n",
       "3  0.03237   0.0   2.18     0  0.458  6.998   45.8  6.0622    3  222     18.7   \n",
       "4  0.06905   0.0   2.18     0  0.458  7.147   54.2  6.0622    3  222     18.7   \n",
       "5  0.02985   0.0   2.18     0  0.458  6.430   58.7  6.0622    3  222     18.7   \n",
       "6  0.08829  12.5   7.87     0  0.524  6.012   66.6  5.5605    5  311     15.2   \n",
       "7  0.14455  12.5   7.87     0  0.524  6.172   96.1  5.9505    5  311     15.2   \n",
       "8  0.21124  12.5   7.87     0  0.524  5.631  100.0  6.0821    5  311     15.2   \n",
       "9  0.17004  12.5   7.87     0  0.524  6.004   85.9  6.5921    5  311     15.2   \n",
       "\n",
       "        b  lstat  MEDV  \n",
       "0  396.90   4.98  24.0  \n",
       "1  396.90   9.14  21.6  \n",
       "2  392.83   4.03  34.7  \n",
       "3  394.63   2.94  33.4  \n",
       "4  396.90   5.33  36.2  \n",
       "5  394.12   5.21  28.7  \n",
       "6  395.60  12.43  22.9  \n",
       "7  396.90  19.15  27.1  \n",
       "8  386.63  29.93  16.5  \n",
       "9  386.71  17.10  18.9  "
      ]
     },
     "execution_count": 3,
     "metadata": {},
     "output_type": "execute_result"
    }
   ],
   "source": [
    "df.head(10)"
   ]
  },
  {
   "cell_type": "code",
   "execution_count": 4,
   "metadata": {
    "colab": {
     "base_uri": "https://localhost:8080/"
    },
    "id": "Tr8RJ_iCri00",
    "outputId": "264798c3-657b-4b17-975c-dc9744c061e3"
   },
   "outputs": [
    {
     "data": {
      "text/plain": [
       "(506, 14)"
      ]
     },
     "execution_count": 4,
     "metadata": {},
     "output_type": "execute_result"
    }
   ],
   "source": [
    "df.shape"
   ]
  },
  {
   "cell_type": "code",
   "execution_count": 5,
   "metadata": {
    "colab": {
     "base_uri": "https://localhost:8080/"
    },
    "id": "7s0kGFFMrwNC",
    "outputId": "d7c553fa-fa14-4cf8-99eb-4cc88e768eec"
   },
   "outputs": [
    {
     "data": {
      "text/plain": [
       "7084"
      ]
     },
     "execution_count": 5,
     "metadata": {},
     "output_type": "execute_result"
    }
   ],
   "source": [
    "df.size"
   ]
  },
  {
   "cell_type": "code",
   "execution_count": 6,
   "metadata": {
    "colab": {
     "base_uri": "https://localhost:8080/",
     "height": 320
    },
    "id": "yF1xBB5RrzKb",
    "outputId": "328ddb35-57d6-4fc8-f890-6962853dd640"
   },
   "outputs": [
    {
     "data": {
      "text/html": [
       "<div>\n",
       "<style scoped>\n",
       "    .dataframe tbody tr th:only-of-type {\n",
       "        vertical-align: middle;\n",
       "    }\n",
       "\n",
       "    .dataframe tbody tr th {\n",
       "        vertical-align: top;\n",
       "    }\n",
       "\n",
       "    .dataframe thead th {\n",
       "        text-align: right;\n",
       "    }\n",
       "</style>\n",
       "<table border=\"1\" class=\"dataframe\">\n",
       "  <thead>\n",
       "    <tr style=\"text-align: right;\">\n",
       "      <th></th>\n",
       "      <th>crim</th>\n",
       "      <th>zn</th>\n",
       "      <th>indus</th>\n",
       "      <th>chas</th>\n",
       "      <th>nox</th>\n",
       "      <th>rm</th>\n",
       "      <th>age</th>\n",
       "      <th>dis</th>\n",
       "      <th>rad</th>\n",
       "      <th>tax</th>\n",
       "      <th>ptratio</th>\n",
       "      <th>b</th>\n",
       "      <th>lstat</th>\n",
       "      <th>MEDV</th>\n",
       "    </tr>\n",
       "  </thead>\n",
       "  <tbody>\n",
       "    <tr>\n",
       "      <th>count</th>\n",
       "      <td>506.000000</td>\n",
       "      <td>506.000000</td>\n",
       "      <td>506.000000</td>\n",
       "      <td>506.000000</td>\n",
       "      <td>506.000000</td>\n",
       "      <td>506.000000</td>\n",
       "      <td>506.000000</td>\n",
       "      <td>506.000000</td>\n",
       "      <td>506.000000</td>\n",
       "      <td>506.000000</td>\n",
       "      <td>506.000000</td>\n",
       "      <td>506.000000</td>\n",
       "      <td>506.000000</td>\n",
       "      <td>506.000000</td>\n",
       "    </tr>\n",
       "    <tr>\n",
       "      <th>mean</th>\n",
       "      <td>3.613524</td>\n",
       "      <td>11.363636</td>\n",
       "      <td>11.136779</td>\n",
       "      <td>0.069170</td>\n",
       "      <td>0.554695</td>\n",
       "      <td>6.284634</td>\n",
       "      <td>68.574901</td>\n",
       "      <td>3.795043</td>\n",
       "      <td>9.549407</td>\n",
       "      <td>408.237154</td>\n",
       "      <td>18.455534</td>\n",
       "      <td>356.674032</td>\n",
       "      <td>12.653063</td>\n",
       "      <td>22.532806</td>\n",
       "    </tr>\n",
       "    <tr>\n",
       "      <th>std</th>\n",
       "      <td>8.601545</td>\n",
       "      <td>23.322453</td>\n",
       "      <td>6.860353</td>\n",
       "      <td>0.253994</td>\n",
       "      <td>0.115878</td>\n",
       "      <td>0.702617</td>\n",
       "      <td>28.148861</td>\n",
       "      <td>2.105710</td>\n",
       "      <td>8.707259</td>\n",
       "      <td>168.537116</td>\n",
       "      <td>2.164946</td>\n",
       "      <td>91.294864</td>\n",
       "      <td>7.141062</td>\n",
       "      <td>9.197104</td>\n",
       "    </tr>\n",
       "    <tr>\n",
       "      <th>min</th>\n",
       "      <td>0.006320</td>\n",
       "      <td>0.000000</td>\n",
       "      <td>0.460000</td>\n",
       "      <td>0.000000</td>\n",
       "      <td>0.385000</td>\n",
       "      <td>3.561000</td>\n",
       "      <td>2.900000</td>\n",
       "      <td>1.129600</td>\n",
       "      <td>1.000000</td>\n",
       "      <td>187.000000</td>\n",
       "      <td>12.600000</td>\n",
       "      <td>0.320000</td>\n",
       "      <td>1.730000</td>\n",
       "      <td>5.000000</td>\n",
       "    </tr>\n",
       "    <tr>\n",
       "      <th>25%</th>\n",
       "      <td>0.082045</td>\n",
       "      <td>0.000000</td>\n",
       "      <td>5.190000</td>\n",
       "      <td>0.000000</td>\n",
       "      <td>0.449000</td>\n",
       "      <td>5.885500</td>\n",
       "      <td>45.025000</td>\n",
       "      <td>2.100175</td>\n",
       "      <td>4.000000</td>\n",
       "      <td>279.000000</td>\n",
       "      <td>17.400000</td>\n",
       "      <td>375.377500</td>\n",
       "      <td>6.950000</td>\n",
       "      <td>17.025000</td>\n",
       "    </tr>\n",
       "    <tr>\n",
       "      <th>50%</th>\n",
       "      <td>0.256510</td>\n",
       "      <td>0.000000</td>\n",
       "      <td>9.690000</td>\n",
       "      <td>0.000000</td>\n",
       "      <td>0.538000</td>\n",
       "      <td>6.208500</td>\n",
       "      <td>77.500000</td>\n",
       "      <td>3.207450</td>\n",
       "      <td>5.000000</td>\n",
       "      <td>330.000000</td>\n",
       "      <td>19.050000</td>\n",
       "      <td>391.440000</td>\n",
       "      <td>11.360000</td>\n",
       "      <td>21.200000</td>\n",
       "    </tr>\n",
       "    <tr>\n",
       "      <th>75%</th>\n",
       "      <td>3.677083</td>\n",
       "      <td>12.500000</td>\n",
       "      <td>18.100000</td>\n",
       "      <td>0.000000</td>\n",
       "      <td>0.624000</td>\n",
       "      <td>6.623500</td>\n",
       "      <td>94.075000</td>\n",
       "      <td>5.188425</td>\n",
       "      <td>24.000000</td>\n",
       "      <td>666.000000</td>\n",
       "      <td>20.200000</td>\n",
       "      <td>396.225000</td>\n",
       "      <td>16.955000</td>\n",
       "      <td>25.000000</td>\n",
       "    </tr>\n",
       "    <tr>\n",
       "      <th>max</th>\n",
       "      <td>88.976200</td>\n",
       "      <td>100.000000</td>\n",
       "      <td>27.740000</td>\n",
       "      <td>1.000000</td>\n",
       "      <td>0.871000</td>\n",
       "      <td>8.780000</td>\n",
       "      <td>100.000000</td>\n",
       "      <td>12.126500</td>\n",
       "      <td>24.000000</td>\n",
       "      <td>711.000000</td>\n",
       "      <td>22.000000</td>\n",
       "      <td>396.900000</td>\n",
       "      <td>37.970000</td>\n",
       "      <td>50.000000</td>\n",
       "    </tr>\n",
       "  </tbody>\n",
       "</table>\n",
       "</div>"
      ],
      "text/plain": [
       "             crim          zn       indus        chas         nox          rm  \\\n",
       "count  506.000000  506.000000  506.000000  506.000000  506.000000  506.000000   \n",
       "mean     3.613524   11.363636   11.136779    0.069170    0.554695    6.284634   \n",
       "std      8.601545   23.322453    6.860353    0.253994    0.115878    0.702617   \n",
       "min      0.006320    0.000000    0.460000    0.000000    0.385000    3.561000   \n",
       "25%      0.082045    0.000000    5.190000    0.000000    0.449000    5.885500   \n",
       "50%      0.256510    0.000000    9.690000    0.000000    0.538000    6.208500   \n",
       "75%      3.677083   12.500000   18.100000    0.000000    0.624000    6.623500   \n",
       "max     88.976200  100.000000   27.740000    1.000000    0.871000    8.780000   \n",
       "\n",
       "              age         dis         rad         tax     ptratio           b  \\\n",
       "count  506.000000  506.000000  506.000000  506.000000  506.000000  506.000000   \n",
       "mean    68.574901    3.795043    9.549407  408.237154   18.455534  356.674032   \n",
       "std     28.148861    2.105710    8.707259  168.537116    2.164946   91.294864   \n",
       "min      2.900000    1.129600    1.000000  187.000000   12.600000    0.320000   \n",
       "25%     45.025000    2.100175    4.000000  279.000000   17.400000  375.377500   \n",
       "50%     77.500000    3.207450    5.000000  330.000000   19.050000  391.440000   \n",
       "75%     94.075000    5.188425   24.000000  666.000000   20.200000  396.225000   \n",
       "max    100.000000   12.126500   24.000000  711.000000   22.000000  396.900000   \n",
       "\n",
       "            lstat        MEDV  \n",
       "count  506.000000  506.000000  \n",
       "mean    12.653063   22.532806  \n",
       "std      7.141062    9.197104  \n",
       "min      1.730000    5.000000  \n",
       "25%      6.950000   17.025000  \n",
       "50%     11.360000   21.200000  \n",
       "75%     16.955000   25.000000  \n",
       "max     37.970000   50.000000  "
      ]
     },
     "execution_count": 6,
     "metadata": {},
     "output_type": "execute_result"
    }
   ],
   "source": [
    "df.describe()"
   ]
  },
  {
   "cell_type": "code",
   "execution_count": 7,
   "metadata": {
    "id": "-zIS0UH_r1xL"
   },
   "outputs": [],
   "source": [
    "from sklearn.model_selection import train_test_split"
   ]
  },
  {
   "cell_type": "code",
   "execution_count": 8,
   "metadata": {
    "id": "30huqhKJsA-O"
   },
   "outputs": [],
   "source": [
    "X = df.loc[:,df.columns != 'MEDV']\n",
    "y = df.loc[:,df.columns =='MEDV']\n",
    "X_train,X_test,y_train,y_test = train_test_split(X,y,test_size =0.3,random_state =123)\n"
   ]
  },
  {
   "cell_type": "code",
   "execution_count": 9,
   "metadata": {
    "id": "pjBAxS9nsS6n"
   },
   "outputs": [],
   "source": [
    "# from sklearn.preprocessing import MinMaxScaler\n",
    "# mms = MinMaxScaler()\n",
    "# mms.fit(X_train)\n",
    "# X_train = mms.transform(X_train)\n",
    "# X_test = mms.transform(X_test)\n",
    "from sklearn import preprocessing\n",
    "X_train = preprocessing.normalize(X_train)\n",
    "X_test = preprocessing.normalize(X_test)"
   ]
  },
  {
   "cell_type": "code",
   "execution_count": 10,
   "metadata": {
    "id": "RHvdQjzQtELS"
   },
   "outputs": [],
   "source": [
    "from tensorflow.keras.models import Sequential\n",
    "from tensorflow.keras.layers import Dense\n",
    "\n",
    "model = Sequential()\n",
    "model.add(Dense(128, input_shape=(13, ),activation=\"relu\",name=\"layer1\"))\n",
    "model.add(Dense(64 , activation=\"relu\",name=\"dense2\"))\n",
    "model.add(Dense(1,activation=\"linear\",name=\"dense_output\"))\n",
    "\n",
    "model.compile(optimizer=\"adam\",loss=\"mse\",metrics=['mae'])\n",
    "\n"
   ]
  },
  {
   "cell_type": "code",
   "execution_count": 11,
   "metadata": {
    "colab": {
     "base_uri": "https://localhost:8080/"
    },
    "id": "f10dYu4KtM0s",
    "outputId": "87567327-b841-45a8-9b56-e7f9038e3030"
   },
   "outputs": [
    {
     "name": "stdout",
     "output_type": "stream",
     "text": [
      "Model: \"sequential\"\n",
      "_________________________________________________________________\n",
      " Layer (type)                Output Shape              Param #   \n",
      "=================================================================\n",
      " layer1 (Dense)              (None, 128)               1792      \n",
      "                                                                 \n",
      " dense2 (Dense)              (None, 64)                8256      \n",
      "                                                                 \n",
      " dense_output (Dense)        (None, 1)                 65        \n",
      "                                                                 \n",
      "=================================================================\n",
      "Total params: 10113 (39.50 KB)\n",
      "Trainable params: 10113 (39.50 KB)\n",
      "Non-trainable params: 0 (0.00 Byte)\n",
      "_________________________________________________________________\n"
     ]
    }
   ],
   "source": [
    "model.summary()"
   ]
  },
  {
   "cell_type": "code",
   "execution_count": 12,
   "metadata": {
    "colab": {
     "base_uri": "https://localhost:8080/"
    },
    "id": "vRKtvSa8xEcR",
    "outputId": "f3fccb3b-dbd8-4d8a-e77d-fa91863ec855"
   },
   "outputs": [
    {
     "name": "stdout",
     "output_type": "stream",
     "text": [
      "Epoch 1/100\n",
      "12/12 [==============================] - 1s 16ms/step - loss: 597.0807 - mae: 22.6108 - val_loss: 583.8209 - val_mae: 22.3117\n",
      "Epoch 2/100\n",
      "12/12 [==============================] - 0s 5ms/step - loss: 572.8226 - mae: 22.0634 - val_loss: 555.2973 - val_mae: 21.6577\n",
      "Epoch 3/100\n",
      "12/12 [==============================] - 0s 5ms/step - loss: 537.8499 - mae: 21.2515 - val_loss: 509.6151 - val_mae: 20.5701\n",
      "Epoch 4/100\n",
      "12/12 [==============================] - 0s 5ms/step - loss: 482.6375 - mae: 19.8836 - val_loss: 437.8652 - val_mae: 18.7385\n",
      "Epoch 5/100\n",
      "12/12 [==============================] - 0s 5ms/step - loss: 398.3404 - mae: 17.6343 - val_loss: 338.1405 - val_mae: 15.8892\n",
      "Epoch 6/100\n",
      "12/12 [==============================] - 0s 5ms/step - loss: 290.5898 - mae: 14.3657 - val_loss: 225.7559 - val_mae: 12.1304\n",
      "Epoch 7/100\n",
      "12/12 [==============================] - 0s 5ms/step - loss: 184.4898 - mae: 10.5657 - val_loss: 137.2741 - val_mae: 8.6120\n",
      "Epoch 8/100\n",
      "12/12 [==============================] - 0s 5ms/step - loss: 112.5005 - mae: 7.5545 - val_loss: 91.0798 - val_mae: 6.6881\n",
      "Epoch 9/100\n",
      "12/12 [==============================] - 0s 5ms/step - loss: 87.1503 - mae: 6.6407 - val_loss: 85.3723 - val_mae: 6.7727\n",
      "Epoch 10/100\n",
      "12/12 [==============================] - 0s 5ms/step - loss: 85.0921 - mae: 6.7970 - val_loss: 84.2806 - val_mae: 6.7592\n",
      "Epoch 11/100\n",
      "12/12 [==============================] - 0s 6ms/step - loss: 83.6399 - mae: 6.7006 - val_loss: 82.8008 - val_mae: 6.6223\n",
      "Epoch 12/100\n",
      "12/12 [==============================] - 0s 5ms/step - loss: 82.4548 - mae: 6.6353 - val_loss: 81.6614 - val_mae: 6.6143\n",
      "Epoch 13/100\n",
      "12/12 [==============================] - 0s 5ms/step - loss: 81.2246 - mae: 6.5448 - val_loss: 80.3363 - val_mae: 6.4709\n",
      "Epoch 14/100\n",
      "12/12 [==============================] - 0s 5ms/step - loss: 79.9459 - mae: 6.5158 - val_loss: 79.1876 - val_mae: 6.5026\n",
      "Epoch 15/100\n",
      "12/12 [==============================] - 0s 6ms/step - loss: 78.6643 - mae: 6.4627 - val_loss: 77.9219 - val_mae: 6.3851\n",
      "Epoch 16/100\n",
      "12/12 [==============================] - 0s 10ms/step - loss: 77.5156 - mae: 6.3212 - val_loss: 76.8099 - val_mae: 6.2420\n",
      "Epoch 17/100\n",
      "12/12 [==============================] - 0s 9ms/step - loss: 76.4087 - mae: 6.2157 - val_loss: 75.6511 - val_mae: 6.1685\n",
      "Epoch 18/100\n",
      "12/12 [==============================] - 0s 12ms/step - loss: 75.1310 - mae: 6.1883 - val_loss: 74.3892 - val_mae: 6.1841\n",
      "Epoch 19/100\n",
      "12/12 [==============================] - 0s 10ms/step - loss: 73.8497 - mae: 6.1919 - val_loss: 73.1080 - val_mae: 6.1407\n",
      "Epoch 20/100\n",
      "12/12 [==============================] - 0s 16ms/step - loss: 72.7187 - mae: 6.0440 - val_loss: 72.2669 - val_mae: 5.9695\n",
      "Epoch 21/100\n",
      "12/12 [==============================] - 0s 11ms/step - loss: 71.9532 - mae: 5.9445 - val_loss: 71.0376 - val_mae: 5.9435\n",
      "Epoch 22/100\n",
      "12/12 [==============================] - 0s 12ms/step - loss: 70.6517 - mae: 5.9884 - val_loss: 69.8744 - val_mae: 5.9696\n",
      "Epoch 23/100\n",
      "12/12 [==============================] - 0s 9ms/step - loss: 69.6746 - mae: 5.9147 - val_loss: 69.0707 - val_mae: 5.8618\n",
      "Epoch 24/100\n",
      "12/12 [==============================] - 0s 10ms/step - loss: 68.7851 - mae: 5.8148 - val_loss: 68.0488 - val_mae: 5.8234\n",
      "Epoch 25/100\n",
      "12/12 [==============================] - 0s 9ms/step - loss: 68.2030 - mae: 5.9992 - val_loss: 67.5165 - val_mae: 6.0632\n",
      "Epoch 26/100\n",
      "12/12 [==============================] - 0s 11ms/step - loss: 67.3262 - mae: 6.0808 - val_loss: 66.6154 - val_mae: 5.9868\n",
      "Epoch 27/100\n",
      "12/12 [==============================] - 0s 10ms/step - loss: 65.7888 - mae: 5.8655 - val_loss: 65.6050 - val_mae: 5.7254\n",
      "Epoch 28/100\n",
      "12/12 [==============================] - 0s 9ms/step - loss: 65.3253 - mae: 5.7091 - val_loss: 64.8169 - val_mae: 5.7190\n",
      "Epoch 29/100\n",
      "12/12 [==============================] - 0s 9ms/step - loss: 64.7315 - mae: 5.8424 - val_loss: 64.1300 - val_mae: 5.8251\n",
      "Epoch 30/100\n",
      "12/12 [==============================] - 0s 11ms/step - loss: 63.7837 - mae: 5.6890 - val_loss: 63.4534 - val_mae: 5.5645\n",
      "Epoch 31/100\n",
      "12/12 [==============================] - 0s 10ms/step - loss: 63.2930 - mae: 5.5812 - val_loss: 62.8011 - val_mae: 5.5668\n",
      "Epoch 32/100\n",
      "12/12 [==============================] - 0s 10ms/step - loss: 62.5809 - mae: 5.5710 - val_loss: 62.2579 - val_mae: 5.5698\n",
      "Epoch 33/100\n",
      "12/12 [==============================] - 0s 9ms/step - loss: 62.1006 - mae: 5.5695 - val_loss: 61.7457 - val_mae: 5.5743\n",
      "Epoch 34/100\n",
      "12/12 [==============================] - 0s 9ms/step - loss: 61.9443 - mae: 5.6616 - val_loss: 61.2648 - val_mae: 5.6074\n",
      "Epoch 35/100\n",
      "12/12 [==============================] - 0s 11ms/step - loss: 61.1728 - mae: 5.5710 - val_loss: 60.8501 - val_mae: 5.5470\n",
      "Epoch 36/100\n",
      "12/12 [==============================] - 0s 10ms/step - loss: 60.7636 - mae: 5.5535 - val_loss: 60.4894 - val_mae: 5.5082\n",
      "Epoch 37/100\n",
      "12/12 [==============================] - 0s 10ms/step - loss: 60.9244 - mae: 5.4122 - val_loss: 60.2939 - val_mae: 5.3952\n",
      "Epoch 38/100\n",
      "12/12 [==============================] - 0s 11ms/step - loss: 60.1104 - mae: 5.4634 - val_loss: 59.6888 - val_mae: 5.5047\n",
      "Epoch 39/100\n",
      "12/12 [==============================] - 0s 9ms/step - loss: 59.7207 - mae: 5.4702 - val_loss: 59.3936 - val_mae: 5.4570\n",
      "Epoch 40/100\n",
      "12/12 [==============================] - 0s 10ms/step - loss: 59.4255 - mae: 5.4214 - val_loss: 59.1520 - val_mae: 5.4216\n",
      "Epoch 41/100\n",
      "12/12 [==============================] - 0s 10ms/step - loss: 59.0837 - mae: 5.4275 - val_loss: 58.7689 - val_mae: 5.4498\n",
      "Epoch 42/100\n",
      "12/12 [==============================] - 0s 9ms/step - loss: 58.9044 - mae: 5.3824 - val_loss: 58.6425 - val_mae: 5.3670\n",
      "Epoch 43/100\n",
      "12/12 [==============================] - 0s 9ms/step - loss: 58.7027 - mae: 5.4600 - val_loss: 58.2636 - val_mae: 5.4900\n",
      "Epoch 44/100\n",
      "12/12 [==============================] - 0s 10ms/step - loss: 58.4047 - mae: 5.4256 - val_loss: 58.0494 - val_mae: 5.4002\n",
      "Epoch 45/100\n",
      "12/12 [==============================] - 0s 11ms/step - loss: 58.1160 - mae: 5.3678 - val_loss: 57.7794 - val_mae: 5.4145\n",
      "Epoch 46/100\n",
      "12/12 [==============================] - 0s 9ms/step - loss: 58.7794 - mae: 5.6927 - val_loss: 58.3563 - val_mae: 5.7156\n",
      "Epoch 47/100\n",
      "12/12 [==============================] - 0s 9ms/step - loss: 57.4075 - mae: 5.4235 - val_loss: 58.0875 - val_mae: 5.2462\n",
      "Epoch 48/100\n",
      "12/12 [==============================] - 0s 9ms/step - loss: 58.1216 - mae: 5.2811 - val_loss: 57.3778 - val_mae: 5.3408\n",
      "Epoch 49/100\n",
      "12/12 [==============================] - 0s 10ms/step - loss: 57.3329 - mae: 5.3717 - val_loss: 57.1775 - val_mae: 5.3697\n",
      "Epoch 50/100\n",
      "12/12 [==============================] - 0s 11ms/step - loss: 57.3060 - mae: 5.3414 - val_loss: 57.0829 - val_mae: 5.3481\n",
      "Epoch 51/100\n",
      "12/12 [==============================] - 0s 10ms/step - loss: 57.1823 - mae: 5.3246 - val_loss: 56.9174 - val_mae: 5.3664\n",
      "Epoch 52/100\n",
      "12/12 [==============================] - 0s 12ms/step - loss: 56.8309 - mae: 5.4523 - val_loss: 56.9991 - val_mae: 5.5314\n",
      "Epoch 53/100\n",
      "12/12 [==============================] - 0s 10ms/step - loss: 57.1049 - mae: 5.5233 - val_loss: 56.6818 - val_mae: 5.4355\n",
      "Epoch 54/100\n",
      "12/12 [==============================] - 0s 11ms/step - loss: 56.8028 - mae: 5.4228 - val_loss: 56.5402 - val_mae: 5.3578\n",
      "Epoch 55/100\n",
      "12/12 [==============================] - 0s 10ms/step - loss: 56.5543 - mae: 5.3368 - val_loss: 56.4332 - val_mae: 5.3279\n",
      "Epoch 56/100\n",
      "12/12 [==============================] - 0s 10ms/step - loss: 56.4884 - mae: 5.3299 - val_loss: 56.2711 - val_mae: 5.3823\n",
      "Epoch 57/100\n",
      "12/12 [==============================] - 0s 11ms/step - loss: 56.2924 - mae: 5.4097 - val_loss: 56.1203 - val_mae: 5.3817\n",
      "Epoch 58/100\n",
      "12/12 [==============================] - 0s 10ms/step - loss: 56.2646 - mae: 5.3395 - val_loss: 56.0180 - val_mae: 5.3306\n",
      "Epoch 59/100\n",
      "12/12 [==============================] - 0s 10ms/step - loss: 56.1295 - mae: 5.2878 - val_loss: 55.9389 - val_mae: 5.2991\n",
      "Epoch 60/100\n",
      "12/12 [==============================] - 0s 9ms/step - loss: 55.9579 - mae: 5.3331 - val_loss: 55.7704 - val_mae: 5.3380\n",
      "Epoch 61/100\n",
      "12/12 [==============================] - 0s 9ms/step - loss: 56.1552 - mae: 5.2725 - val_loss: 55.7358 - val_mae: 5.2803\n"
     ]
    },
    {
     "name": "stdout",
     "output_type": "stream",
     "text": [
      "Epoch 62/100\n",
      "12/12 [==============================] - 0s 12ms/step - loss: 55.7251 - mae: 5.3077 - val_loss: 55.5766 - val_mae: 5.3029\n",
      "Epoch 63/100\n",
      "12/12 [==============================] - 0s 10ms/step - loss: 55.8733 - mae: 5.2387 - val_loss: 55.6752 - val_mae: 5.2135\n",
      "Epoch 64/100\n",
      "12/12 [==============================] - 0s 10ms/step - loss: 55.7352 - mae: 5.1962 - val_loss: 55.4561 - val_mae: 5.2400\n",
      "Epoch 65/100\n",
      "12/12 [==============================] - 0s 10ms/step - loss: 55.5369 - mae: 5.3440 - val_loss: 55.2392 - val_mae: 5.3593\n",
      "Epoch 66/100\n",
      "12/12 [==============================] - 0s 10ms/step - loss: 55.1989 - mae: 5.3415 - val_loss: 55.1237 - val_mae: 5.3363\n",
      "Epoch 67/100\n",
      "12/12 [==============================] - 0s 10ms/step - loss: 55.2647 - mae: 5.4664 - val_loss: 55.5186 - val_mae: 5.5283\n",
      "Epoch 68/100\n",
      "12/12 [==============================] - 0s 11ms/step - loss: 55.7302 - mae: 5.4757 - val_loss: 54.9638 - val_mae: 5.2949\n",
      "Epoch 69/100\n",
      "12/12 [==============================] - 0s 9ms/step - loss: 55.4714 - mae: 5.1797 - val_loss: 55.2092 - val_mae: 5.1413\n",
      "Epoch 70/100\n",
      "12/12 [==============================] - 0s 9ms/step - loss: 55.0005 - mae: 5.1929 - val_loss: 54.7399 - val_mae: 5.2658\n",
      "Epoch 71/100\n",
      "12/12 [==============================] - 0s 9ms/step - loss: 54.9827 - mae: 5.2309 - val_loss: 54.6497 - val_mae: 5.2636\n",
      "Epoch 72/100\n",
      "12/12 [==============================] - 0s 9ms/step - loss: 54.7094 - mae: 5.3065 - val_loss: 54.5472 - val_mae: 5.2960\n",
      "Epoch 73/100\n",
      "12/12 [==============================] - 0s 10ms/step - loss: 54.4508 - mae: 5.1988 - val_loss: 54.7278 - val_mae: 5.1357\n",
      "Epoch 74/100\n",
      "12/12 [==============================] - 0s 11ms/step - loss: 54.8560 - mae: 5.1059 - val_loss: 54.6229 - val_mae: 5.1303\n",
      "Epoch 75/100\n",
      "12/12 [==============================] - 0s 10ms/step - loss: 54.6970 - mae: 5.1187 - val_loss: 54.3018 - val_mae: 5.1848\n",
      "Epoch 76/100\n",
      "12/12 [==============================] - 0s 11ms/step - loss: 54.3550 - mae: 5.2490 - val_loss: 54.1076 - val_mae: 5.2313\n",
      "Epoch 77/100\n",
      "12/12 [==============================] - 0s 10ms/step - loss: 54.2464 - mae: 5.1407 - val_loss: 54.1567 - val_mae: 5.1407\n",
      "Epoch 78/100\n",
      "12/12 [==============================] - 0s 10ms/step - loss: 54.0912 - mae: 5.2679 - val_loss: 54.0026 - val_mae: 5.3602\n",
      "Epoch 79/100\n",
      "12/12 [==============================] - 0s 11ms/step - loss: 54.0082 - mae: 5.3603 - val_loss: 53.7608 - val_mae: 5.2073\n",
      "Epoch 80/100\n",
      "12/12 [==============================] - 0s 10ms/step - loss: 53.7947 - mae: 5.1720 - val_loss: 53.7625 - val_mae: 5.1444\n",
      "Epoch 81/100\n",
      "12/12 [==============================] - 0s 9ms/step - loss: 53.6038 - mae: 5.1816 - val_loss: 53.5472 - val_mae: 5.2593\n",
      "Epoch 82/100\n",
      "12/12 [==============================] - 0s 9ms/step - loss: 53.7506 - mae: 5.3185 - val_loss: 53.4341 - val_mae: 5.2493\n",
      "Epoch 83/100\n",
      "12/12 [==============================] - 0s 11ms/step - loss: 53.4456 - mae: 5.1435 - val_loss: 53.6877 - val_mae: 5.0672\n",
      "Epoch 84/100\n",
      "12/12 [==============================] - 0s 10ms/step - loss: 53.6687 - mae: 5.1255 - val_loss: 53.2492 - val_mae: 5.1642\n",
      "Epoch 85/100\n",
      "12/12 [==============================] - 0s 9ms/step - loss: 53.2477 - mae: 5.1786 - val_loss: 53.1248 - val_mae: 5.1798\n",
      "Epoch 86/100\n",
      "12/12 [==============================] - 0s 10ms/step - loss: 53.2992 - mae: 5.1024 - val_loss: 53.0758 - val_mae: 5.1311\n",
      "Epoch 87/100\n",
      "12/12 [==============================] - 0s 9ms/step - loss: 53.5634 - mae: 5.4228 - val_loss: 53.7378 - val_mae: 5.4974\n",
      "Epoch 88/100\n",
      "12/12 [==============================] - 0s 11ms/step - loss: 53.1129 - mae: 5.2510 - val_loss: 52.9991 - val_mae: 5.0624\n",
      "Epoch 89/100\n",
      "12/12 [==============================] - 0s 11ms/step - loss: 53.1118 - mae: 5.1062 - val_loss: 52.6513 - val_mae: 5.2117\n",
      "Epoch 90/100\n",
      "12/12 [==============================] - 0s 9ms/step - loss: 54.1633 - mae: 5.5398 - val_loss: 53.5384 - val_mae: 5.5087\n",
      "Epoch 91/100\n",
      "12/12 [==============================] - 0s 10ms/step - loss: 53.2625 - mae: 5.3787 - val_loss: 52.5812 - val_mae: 5.0582\n",
      "Epoch 92/100\n",
      "12/12 [==============================] - 0s 10ms/step - loss: 53.0240 - mae: 5.0023 - val_loss: 52.5870 - val_mae: 5.0190\n",
      "Epoch 93/100\n",
      "12/12 [==============================] - 0s 10ms/step - loss: 52.7930 - mae: 4.9886 - val_loss: 52.2379 - val_mae: 5.0835\n",
      "Epoch 94/100\n",
      "12/12 [==============================] - 0s 9ms/step - loss: 52.7916 - mae: 5.2743 - val_loss: 52.1159 - val_mae: 5.2142\n",
      "Epoch 95/100\n",
      "12/12 [==============================] - 0s 9ms/step - loss: 52.7347 - mae: 5.0066 - val_loss: 52.8860 - val_mae: 4.9197\n",
      "Epoch 96/100\n",
      "12/12 [==============================] - 0s 9ms/step - loss: 52.4943 - mae: 4.9721 - val_loss: 51.9087 - val_mae: 5.1884\n",
      "Epoch 97/100\n",
      "12/12 [==============================] - 0s 10ms/step - loss: 52.5224 - mae: 5.3723 - val_loss: 52.3961 - val_mae: 5.3901\n",
      "Epoch 98/100\n",
      "12/12 [==============================] - 0s 9ms/step - loss: 52.3615 - mae: 5.3390 - val_loss: 51.7020 - val_mae: 5.0703\n",
      "Epoch 99/100\n",
      "12/12 [==============================] - 0s 9ms/step - loss: 51.9075 - mae: 4.9969 - val_loss: 51.8449 - val_mae: 4.9825\n",
      "Epoch 100/100\n",
      "12/12 [==============================] - 0s 9ms/step - loss: 51.6688 - mae: 5.0716 - val_loss: 51.4455 - val_mae: 5.1330\n"
     ]
    }
   ],
   "source": [
    "history = model.fit(X_train,y_train,epochs = 100,validation_split=0.05,verbose=1,validation_data=(X_train,y_train))"
   ]
  },
  {
   "cell_type": "code",
   "execution_count": 13,
   "metadata": {
    "colab": {
     "base_uri": "https://localhost:8080/",
     "height": 622
    },
    "id": "rICTzijTyCcW",
    "outputId": "cfd56cd0-8eb4-4b85-e5ed-10d2b9b5d26c",
    "scrolled": true
   },
   "outputs": [
    {
     "data": {
      "image/png": "[encoded data removed]",
      "text/plain": [
       "<Figure size 1000x700 with 1 Axes>"
      ]
     },
     "metadata": {},
     "output_type": "display_data"
    }
   ],
   "source": [
    "pd.DataFrame(history.history).plot(figsize=(10,7))\n",
    "plt.title(\"Metrics graph\")\n",
    "plt.show()"
   ]
  },
  {
   "cell_type": "code",
   "execution_count": 14,
   "metadata": {
    "colab": {
     "base_uri": "https://localhost:8080/"
    },
    "id": "3OB3SEURyMDF",
    "outputId": "c46b0b69-bfa7-4eab-ec72-b828278504b5"
   },
   "outputs": [
    {
     "name": "stdout",
     "output_type": "stream",
     "text": [
      "5/5 [==============================] - 0s 3ms/step\n"
     ]
    }
   ],
   "source": [
    "y_pred = model.predict(X_test)"
   ]
  },
  {
   "cell_type": "code",
   "execution_count": 15,
   "metadata": {
    "colab": {
     "base_uri": "https://localhost:8080/",
     "height": 472
    },
    "id": "9l9CByRKyQH9",
    "outputId": "6913d310-f94c-418a-ac9e-3d20a8b6faed"
   },
   "outputs": [
    {
     "data": {
      "image/png": "[encoded data removed]",
      "text/plain": [
       "<Figure size 640x480 with 1 Axes>"
      ]
     },
     "metadata": {},
     "output_type": "display_data"
    }
   ],
   "source": [
    "sns.regplot(x=y_test, y=y_pred)\n",
    "plt.title(\"Regression Line for Predicted values\")\n",
    "plt.show()"
   ]
  },
  {
   "cell_type": "code",
   "execution_count": 16,
   "metadata": {
    "colab": {
     "base_uri": "https://localhost:8080/"
    },
    "id": "y0k0DoX9xt7m",
    "outputId": "756fc999-7e25-4682-bf62-f206ee242322"
   },
   "outputs": [
    {
     "name": "stdout",
     "output_type": "stream",
     "text": [
      "5/5 [==============================] - 0s 3ms/step - loss: 52.5149 - mae: 4.9670\n",
      "Mean squared error on test data:  52.514892578125\n",
      "Mean absolute error on test data:  4.9669976234436035\n"
     ]
    }
   ],
   "source": [
    "mse_nn, mae_nn = model.evaluate(X_test, y_test)\n",
    "\n",
    "print('Mean squared error on test data: ', mse_nn)\n",
    "print('Mean absolute error on test data: ', mae_nn)"
   ]
  }
 ],
 "metadata": {
  "colab": {
   "provenance": []
  },
  "kernelspec": {
   "display_name": "Python 3 (ipykernel)",
   "language": "python",
   "name": "python3"
  },
  "language_info": {
   "codemirror_mode": {
    "name": "ipython",
    "version": 3
   },
   "file_extension": ".py",
   "mimetype": "text/x-python",
   "name": "python",
   "nbconvert_exporter": "python",
   "pygments_lexer": "ipython3",
   "version": "3.9.7"
  }
 },
 "nbformat": 4,
 "nbformat_minor": 1
}
